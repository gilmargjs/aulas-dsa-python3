{
  "nbformat": 4,
  "nbformat_minor": 0,
  "metadata": {
    "colab": {
      "name": "dsa_diicionario.ipynb",
      "provenance": [],
      "collapsed_sections": [],
      "authorship_tag": "ABX9TyPfGKnwvzWc/3xi4TdY+Hp9",
      "include_colab_link": true
    },
    "kernelspec": {
      "name": "python3",
      "display_name": "Python 3"
    }
  },
  "cells": [
    {
      "cell_type": "markdown",
      "metadata": {
        "id": "view-in-github",
        "colab_type": "text"
      },
      "source": [
        "<a href=\"https://colab.research.google.com/github/gilmargjs/aulas-dsa-python3/blob/main/dsa_diicionario.ipynb\" target=\"_parent\"><img src=\"https://colab.research.google.com/assets/colab-badge.svg\" alt=\"Open In Colab\"/></a>"
      ]
    },
    {
      "cell_type": "code",
      "metadata": {
        "colab": {
          "base_uri": "https://localhost:8080/"
        },
        "id": "VVmdHqPbHXTy",
        "outputId": "5cbef399-a0e4-468f-ff72-69108a51e92a"
      },
      "source": [
        "# Dicionarios usa-se chave e é composto por chave e valor\n",
        "\n",
        "estudantes = [\"mateus\", 24, \"fernanda\", 22, \"tamires\", 26, \"cristiano\", 25] # lista\n",
        "print(estudantes)\n",
        "\n",
        "estudantes1 = {\"mateus\":24,\"fernanda\":22,\"tamires\":26,\"cristiano\":25}\n",
        "print(estudantes1)\n",
        "\n",
        "estudantes1[\"mateus\"] # a busca em dicionario tambem é por colchetes obs: digita o chave é retornado o valor\n",
        "\n",
        "estudantes1[\"pedro\"] = 30 # desta forma inclui nova chave e valor para pedro\n",
        "print(estudantes1)\n",
        "\n",
        "# estudantes1.clear() limpa a lista\n",
        "# del.estudantes1 deleta o dicionario\n",
        "\n",
        "len(estudantes1)# comprimento do dicionario\n",
        "\n",
        "estudantes1.keys()# estrai somente as chaves\n",
        "\n",
        "estudantes1.values()# estrai somente os valores\n",
        "\n",
        "estudantes1.items()# retorna as combinações de chave e valor\n",
        "\n",
        "estudantes2 = {\"amanda\":23,\"joão\":28,\"jefferson\":15}\n",
        "print(estudantes2)\n",
        "\n",
        "estudantes1.update(estudantes2)\n",
        "print(estudantes1)\n",
        "\n",
        "estudantes2[10] = 10 # adicionando uma chave do tipo numero e um valor do tipo numero também\n",
        "print(estudantes2)\n",
        "\n",
        "'''\n",
        "não é aconselahvel usar chave com o mesmo nome de um outro valor para não haver confusões\n",
        "'''\n",
        "\n",
        "nova = {\"key1\":1230,\"key2\":[22,453,73.4],\"key3\":[\"leite\",\"farinha\",\"agua\"]}# novo dicionario com valores variados \n",
        "print(nova)\n",
        "nova[\"key2\"]\n",
        "nova[\"key3\"][1].upper()# seleciona um valor da chave e converte para maiusculo\n",
        "nova[\"key2\"][0] -= 2 # seleciona valor na lista dentro do dicionario e já subtrai\n",
        "print(nova) # obs: só funciona com lista, não funciona com dicionario"
      ],
      "execution_count": null,
      "outputs": [
        {
          "output_type": "stream",
          "text": [
            "['mateus', 24, 'fernanda', 22, 'tamires', 26, 'cristiano', 25]\n",
            "{'mateus': 24, 'fernanda': 22, 'tamires': 26, 'cristiano': 25}\n",
            "{'mateus': 24, 'fernanda': 22, 'tamires': 26, 'cristiano': 25, 'pedro': 30}\n",
            "{'amanda': 23, 'joão': 28, 'jefferson': 15}\n",
            "{'mateus': 24, 'fernanda': 22, 'tamires': 26, 'cristiano': 25, 'pedro': 30, 'amanda': 23, 'joão': 28, 'jefferson': 15}\n",
            "{'amanda': 23, 'joão': 28, 'jefferson': 15, 10: 10}\n",
            "{'key1': 1230, 'key2': [22, 453, 73.4], 'key3': ['leite', 'farinha', 'agua']}\n",
            "{'key1': 1230, 'key2': [20, 453, 73.4], 'key3': ['leite', 'farinha', 'agua']}\n"
          ],
          "name": "stdout"
        }
      ]
    },
    {
      "cell_type": "code",
      "metadata": {
        "id": "e_yfxq8OjK_t"
      },
      "source": [
        ""
      ],
      "execution_count": null,
      "outputs": []
    }
  ]
}