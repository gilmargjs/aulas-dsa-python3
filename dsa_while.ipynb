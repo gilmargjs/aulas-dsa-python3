{
  "nbformat": 4,
  "nbformat_minor": 0,
  "metadata": {
    "colab": {
      "name": "dsa_while.ipynb",
      "provenance": [],
      "collapsed_sections": [],
      "authorship_tag": "ABX9TyNJ7ZNsYOe3xlEu0nWEor1f",
      "include_colab_link": true
    },
    "kernelspec": {
      "name": "python3",
      "display_name": "Python 3"
    }
  },
  "cells": [
    {
      "cell_type": "markdown",
      "metadata": {
        "id": "view-in-github",
        "colab_type": "text"
      },
      "source": [
        "<a href=\"https://colab.research.google.com/github/gilmargjs/aulas-dsa-python3/blob/main/dsa_while.ipynb\" target=\"_parent\"><img src=\"https://colab.research.google.com/assets/colab-badge.svg\" alt=\"Open In Colab\"/></a>"
      ]
    },
    {
      "cell_type": "code",
      "metadata": {
        "colab": {
          "base_uri": "https://localhost:8080/"
        },
        "id": "lI0awCWu60Lf",
        "outputId": "90c35dc9-5f11-4e0f-a3a3-780972a4d8d6"
      },
      "source": [
        "cont = 0            #inicio da contagem\n",
        "while cont < 100:   #enquanto cont for menor que 100 cont + 1\n",
        "  if cont == 4:     #se cont for = a 4 para o loop\n",
        "    break\n",
        "  else:             #se não  continua a contagem\n",
        "    pass\n",
        "\n",
        "  print(cont)       #impressão do resultado\n",
        "  cont = cont + 1   #acrentando valor ao loop"
      ],
      "execution_count": 4,
      "outputs": [
        {
          "output_type": "stream",
          "text": [
            "0\n",
            "1\n",
            "2\n",
            "3\n"
          ],
          "name": "stdout"
        }
      ]
    }
  ]
}