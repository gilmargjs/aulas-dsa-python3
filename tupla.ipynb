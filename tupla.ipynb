{
  "nbformat": 4,
  "nbformat_minor": 0,
  "metadata": {
    "colab": {
      "name": "tupla.ipynb",
      "provenance": [],
      "collapsed_sections": [],
      "authorship_tag": "ABX9TyOannQuFOTCD64rQszUafoY",
      "include_colab_link": true
    },
    "kernelspec": {
      "name": "python3",
      "display_name": "Python 3"
    }
  },
  "cells": [
    {
      "cell_type": "markdown",
      "metadata": {
        "id": "view-in-github",
        "colab_type": "text"
      },
      "source": [
        "<a href=\"https://colab.research.google.com/github/gilmargjs/aulas-dsa-python3/blob/main/tupla.ipynb\" target=\"_parent\"><img src=\"https://colab.research.google.com/assets/colab-badge.svg\" alt=\"Open In Colab\"/></a>"
      ]
    },
    {
      "cell_type": "code",
      "metadata": {
        "colab": {
          "base_uri": "https://localhost:8080/"
        },
        "id": "4nSNfhX2oAHJ",
        "outputId": "93b1df49-f1e5-4987-ffa9-92d644dcd283"
      },
      "source": [
        "# tupla são imutaveis\n",
        "# não pode ser alteradas\n",
        "# pode criar uma tupla com um unico item\n",
        "#tuplas são usadas para onde não será necessário mudancas nos dados\n",
        "tupla = (\"geografia\",23,\"Elefante\")\n",
        "print(tupla)\n",
        "\n",
        "# é possivel visualizar itens separados \n",
        "tupla[0]\n",
        "tupla[1:]# seleciona do item 1 até o final\n",
        "tupla.index(\"Elefante\")# busca em qual indece se encontra Elefante\n",
        "len(tupla)# comprimento da tupla\n",
        "\n",
        "# fazer modificações em uma tupla\n",
        "# é necessário converter a tupla para lista \n",
        "# ai então pode-se fazer as mudanças\n",
        "\n",
        "tupla = list(tupla)\n",
        "tupla.append(\"carro\")\n",
        "print(tupla)\n",
        "tupla[1] = \"girafa\"\n",
        "print(tupla)\n",
        "\n",
        "# depois de fazer as operações convertemos novamente para tupla\n",
        "tupla = tuple(tupla)\n",
        "print(tupla)"
      ],
      "execution_count": null,
      "outputs": [
        {
          "output_type": "stream",
          "text": [
            "('geografia', 23, 'Elefante')\n",
            "['geografia', 23, 'Elefante', 'carro']\n",
            "['geografia', 'girafa', 'Elefante', 'carro']\n",
            "('geografia', 'girafa', 'Elefante', 'carro')\n"
          ],
          "name": "stdout"
        }
      ]
    }
  ]
}