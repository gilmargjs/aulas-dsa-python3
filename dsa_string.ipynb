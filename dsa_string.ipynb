{
  "nbformat": 4,
  "nbformat_minor": 0,
  "metadata": {
    "colab": {
      "name": "dsa_string.ipynb",
      "provenance": [],
      "collapsed_sections": [],
      "authorship_tag": "ABX9TyN2Mo4vCEwiI8i9gZ880F4t",
      "include_colab_link": true
    },
    "kernelspec": {
      "name": "python3",
      "display_name": "Python 3"
    }
  },
  "cells": [
    {
      "cell_type": "markdown",
      "metadata": {
        "id": "view-in-github",
        "colab_type": "text"
      },
      "source": [
        "<a href=\"https://colab.research.google.com/github/gilmargjs/aulas-dsa-python3/blob/main/dsa_string.ipynb\" target=\"_parent\"><img src=\"https://colab.research.google.com/assets/colab-badge.svg\" alt=\"Open In Colab\"/></a>"
      ]
    },
    {
      "cell_type": "code",
      "metadata": {
        "colab": {
          "base_uri": "https://localhost:8080/"
        },
        "id": "S8kPDF0Isa85",
        "outputId": "0133b30c-3b87-4221-b113-be2c76c1b381"
      },
      "source": [
        "oi = \"criando\\numa string\\nem python\" # \\n sever para quebra linha\n",
        "print(oi)"
      ],
      "execution_count": null,
      "outputs": [
        {
          "output_type": "stream",
          "text": [
            "criando\n",
            "uma string\n",
            "em python\n"
          ],
          "name": "stdout"
        }
      ]
    },
    {
      "cell_type": "code",
      "metadata": {
        "colab": {
          "base_uri": "https://localhost:8080/"
        },
        "id": "BcKdlPKju0R4",
        "outputId": "783d48bd-6265-474d-d6c4-17c6d5921719"
      },
      "source": [
        "s = \"data science academy\"\n",
        "print(s[0])  # pegar a primeira letra\n",
        "print(s[0:5])# pega da primeira ate a 5 ou quatro posição\n",
        "print(s[:-1])# pega tudo menos o ultimo caracter\n",
        "print(s[-1]) # pega ultima posição\n",
        "print(s[:5]) # pega do zero ate a posição 5 ou seja tudo menos a posiçã o 5\n",
        "print(s[5:]) # pega da quinta letra ate o final "
      ],
      "execution_count": null,
      "outputs": [
        {
          "output_type": "stream",
          "text": [
            "d\n",
            "data \n",
            "data science academ\n",
            "y\n",
            "data \n",
            "science academy\n"
          ],
          "name": "stdout"
        }
      ]
    },
    {
      "cell_type": "code",
      "metadata": {
        "colab": {
          "base_uri": "https://localhost:8080/"
        },
        "id": "6Jpds7oexLNR",
        "outputId": "c9a3e8a0-05f8-4582-935f-5157f0b47706"
      },
      "source": [
        "s = \"data science academy\"\n",
        "print(s[:])    # retorna toda string\n",
        "print(s[::])   # retorna toda string mais criterioso\n",
        "print(s[ ::1]) # retorna toda string\n",
        "print(s[ ::2]) # retorna todos caracteres saltando de dois em dois  \n",
        "print(s[ ::-1])#reorna a string ao contrario ou seja de traz pra frente\n",
        "print(s[ ::-2])#retorna saltando de dois em dois de traz pra frente"
      ],
      "execution_count": null,
      "outputs": [
        {
          "output_type": "stream",
          "text": [
            "data science academy\n",
            "data science academy\n",
            "data science academy\n",
            "dt cec cdm\n",
            "ymedaca ecneics atad\n",
            "yeaaenisaa\n"
          ],
          "name": "stdout"
        }
      ]
    },
    {
      "cell_type": "code",
      "metadata": {
        "colab": {
          "base_uri": "https://localhost:8080/"
        },
        "id": "qjB8PiNH058q",
        "outputId": "854e86d2-7479-4e70-a302-e940ae945973"
      },
      "source": [
        "# tornar maiuculo e minusculo, separar e retornar nova string\n",
        "\n",
        "s = \"data science academy\"\n",
        "p = \"DATA SCIENCE ACADEMY\"\n",
        "print(s.upper()) # retorna string maiusculo\n",
        "print(p.lower()) # retorna a string minusculo\n",
        "\n",
        "r = p.lower() # desta forma retorna uma nova string Minuscula\n",
        "print(r)\n",
        "\n",
        "h = s.upper() # desta forma retorna uma nova string Maiuscula\n",
        "print(h)\n",
        "\n",
        "print(s.split()) # separa a string apartir dos espaços\n",
        "print(p.split(\"A\"))# separa apartir da letra A obs:retira a letra \n",
        "\n",
        "q = p.split()# desta forma retorna uma nova string separada a partir dos espaços\n",
        "print(q)\n",
        "\n",
        "n = s.split(\"e\")# retorna uma nova string separa sem a letra \"e\"\n",
        "print(n)"
      ],
      "execution_count": null,
      "outputs": [
        {
          "output_type": "stream",
          "text": [
            "DATA SCIENCE ACADEMY\n",
            "data science academy\n",
            "data science academy\n",
            "DATA SCIENCE ACADEMY\n",
            "['data', 'science', 'academy']\n",
            "['D', 'T', ' SCIENCE ', 'C', 'DEMY']\n",
            "['DATA', 'SCIENCE', 'ACADEMY']\n",
            "['data sci', 'nc', ' acad', 'my']\n"
          ],
          "name": "stdout"
        }
      ]
    },
    {
      "cell_type": "code",
      "metadata": {
        "colab": {
          "base_uri": "https://localhost:8080/"
        },
        "id": "eU2CODdG4p0o",
        "outputId": "6e9ff3b2-8700-4982-f71c-f734ddab649e"
      },
      "source": [
        "# Funções com strings\n",
        "s = \"data science academy\"\n",
        "print(s.capitalize()) # torna a primeira letra maiuscula obs: não modifica o original\n",
        "\n",
        "p = s.capitalize() # retorna uma nova string com a primeira letra maiuscula agora permanente\n",
        "print(p)\n",
        "\n",
        "s.count(\"a\") # conta contas vezes \"a\" aparece na string\n",
        "s.find(\"y\") # encontrar a posição da letra y\n",
        "s.islower() # verificar se tem caracter minusculo\n",
        "s.isspace() # verifica se a string é espaço\n",
        "s.endswith(\"y\")# verificar se termina com qual letra termina\n",
        "\n",
        "# comparação  entre strings\n",
        "\n",
        "print(\"python\" == \"r\")\n",
        "print(\"python\" == \"python\")"
      ],
      "execution_count": null,
      "outputs": [
        {
          "output_type": "stream",
          "text": [
            "Data science academy\n",
            "Data science academy\n",
            "False\n",
            "True\n"
          ],
          "name": "stdout"
        }
      ]
    },
    {
      "cell_type": "markdown",
      "metadata": {
        "id": "bZCKMW720yyr"
      },
      "source": [
        ""
      ]
    },
    {
      "cell_type": "markdown",
      "metadata": {
        "id": "EOsQfqEuztRU"
      },
      "source": [
        "letra = \"w\"\n",
        "print(letra)\n",
        "print(letra * 3)# retorna a variavel 3 vezes\n"
      ]
    }
  ]
}