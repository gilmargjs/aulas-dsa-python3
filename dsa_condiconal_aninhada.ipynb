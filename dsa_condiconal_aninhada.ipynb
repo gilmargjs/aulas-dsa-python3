{
  "nbformat": 4,
  "nbformat_minor": 0,
  "metadata": {
    "colab": {
      "name": "dsa_condiconal_aninhada.ipynb",
      "provenance": [],
      "collapsed_sections": [],
      "authorship_tag": "ABX9TyP0clMBIGJJrzbxD7pUdpoH",
      "include_colab_link": true
    },
    "kernelspec": {
      "name": "python3",
      "display_name": "Python 3"
    }
  },
  "cells": [
    {
      "cell_type": "markdown",
      "metadata": {
        "id": "view-in-github",
        "colab_type": "text"
      },
      "source": [
        "<a href=\"https://colab.research.google.com/github/gilmargjs/aulas-dsa-python3/blob/main/dsa_condiconal_aninhada.ipynb\" target=\"_parent\"><img src=\"https://colab.research.google.com/assets/colab-badge.svg\" alt=\"Open In Colab\"/></a>"
      ]
    },
    {
      "cell_type": "code",
      "metadata": {
        "colab": {
          "base_uri": "https://localhost:8080/"
        },
        "id": "xdkDobTi6Y4h",
        "outputId": "2ba1b000-8313-459e-ffaa-976168962d47"
      },
      "source": [
        "idade = 18\n",
        "if idade > 17:\n",
        "  print('você pode dirigir!')\n"
      ],
      "execution_count": null,
      "outputs": [
        {
          "output_type": "stream",
          "text": [
            "você pode dirigir!\n"
          ],
          "name": "stdout"
        }
      ]
    },
    {
      "cell_type": "code",
      "metadata": {
        "colab": {
          "base_uri": "https://localhost:8080/"
        },
        "id": "7ktoeak0699z",
        "outputId": "85e1b278-557a-40d0-ecae-935a3dde3133"
      },
      "source": [
        "nome = \"Bob\"\n",
        "if idade > 13:\n",
        "  if nome == \"Bob\":\n",
        "    print('ok Bob, você está autorizado a entrar!')\n",
        "  else:\n",
        "    print('Descupe, mas você não pode entrar!')"
      ],
      "execution_count": null,
      "outputs": [
        {
          "output_type": "stream",
          "text": [
            "ok Bob, você está autorizado a entrar!\n"
          ],
          "name": "stdout"
        }
      ]
    },
    {
      "cell_type": "code",
      "metadata": {
        "colab": {
          "base_uri": "https://localhost:8080/"
        },
        "id": "vw0qi9lr8NuO",
        "outputId": "90ecb16b-4296-4a51-f351-3021e7fd5357"
      },
      "source": [
        "# desta forma é semelhante ao codigo anterior\n",
        "# usando o and (e) as duas condições tem que ser verdadeiras para a mensagem ser impressa\n",
        "idade = 13\n",
        "nome  = \"Bob\"\n",
        "if idade >= 13 and nome ==\"Bob\":# se a idade for igual ou maior que 13 e  nome for BOB\n",
        "  print('ok Bob, você está autorizado a entrar!') "
      ],
      "execution_count": null,
      "outputs": [
        {
          "output_type": "stream",
          "text": [
            "ok Bob, você está autorizado a entrar!\n"
          ],
          "name": "stdout"
        }
      ]
    },
    {
      "cell_type": "code",
      "metadata": {
        "colab": {
          "base_uri": "https://localhost:8080/"
        },
        "id": "rgNjXLVB8400",
        "outputId": "ec1563a1-3d1a-46a0-8b48-4fb7e329c3f5"
      },
      "source": [
        "# usando o or (ou) um dos dois sendo verdadeiro a mensagem é impressa\n",
        "idade = 13\n",
        "nome  = \"Bob\"\n",
        "if idade >= 13 or nome == \"Bob\":# se a idade for maior que 13 ou nome for Bob\n",
        "  print('ok Bob, você está autorizado a entrar!')"
      ],
      "execution_count": null,
      "outputs": [
        {
          "output_type": "stream",
          "text": [
            "ok Bob, você está autorizado a entrar!\n"
          ],
          "name": "stdout"
        }
      ]
    },
    {
      "cell_type": "code",
      "metadata": {
        "colab": {
          "base_uri": "https://localhost:8080/"
        },
        "id": "EgR8GOGP_CEc",
        "outputId": "f0ab7f87-836b-4e19-88cd-0677cc50b638"
      },
      "source": [
        "# ESTRUTURA ELIF\n",
        " \n",
        "dia = \"Terça\"\n",
        "if dia == \"segunda\":\n",
        "  print('hoje fara sol!')\n",
        "elif dia == \"Terça\":\n",
        "  print('hoje vai chover!')\n",
        "elif dia == \"quarta\":\n",
        "  print('hoije vai ser nublado!')\n",
        "else:\n",
        "  print('sem previsão do tempo para o dia selecionado')"
      ],
      "execution_count": null,
      "outputs": [
        {
          "output_type": "stream",
          "text": [
            "hoje vai chover!\n"
          ],
          "name": "stdout"
        }
      ]
    }
  ]
}