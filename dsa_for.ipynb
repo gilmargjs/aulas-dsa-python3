{
  "nbformat": 4,
  "nbformat_minor": 0,
  "metadata": {
    "colab": {
      "name": "dsa_for.ipynb",
      "provenance": [],
      "collapsed_sections": [],
      "authorship_tag": "ABX9TyNkRHJroxmhEBnFHX7qyHSA",
      "include_colab_link": true
    },
    "kernelspec": {
      "name": "python3",
      "display_name": "Python 3"
    }
  },
  "cells": [
    {
      "cell_type": "markdown",
      "metadata": {
        "id": "view-in-github",
        "colab_type": "text"
      },
      "source": [
        "<a href=\"https://colab.research.google.com/github/gilmargjs/aulas-dsa-python3/blob/main/dsa_for.ipynb\" target=\"_parent\"><img src=\"https://colab.research.google.com/assets/colab-badge.svg\" alt=\"Open In Colab\"/></a>"
      ]
    },
    {
      "cell_type": "code",
      "metadata": {
        "colab": {
          "base_uri": "https://localhost:8080/"
        },
        "id": "n2X3iT29UvKL",
        "outputId": "67ecb0ed-247d-4dab-dfa9-26a08424f850"
      },
      "source": [
        "# criando uma tupla e imprimindo cada um dos valores\n",
        "\n",
        "tp = (2,3,4)#tupla\n",
        "for i in tp:#loop para cada item dentro da tupla \n",
        "  print(i)#imprimir valor\n"
      ],
      "execution_count": 1,
      "outputs": [
        {
          "output_type": "stream",
          "text": [
            "2\n",
            "3\n",
            "4\n"
          ],
          "name": "stdout"
        }
      ]
    },
    {
      "cell_type": "code",
      "metadata": {
        "colab": {
          "base_uri": "https://localhost:8080/"
        },
        "id": "PClDOcj8WY0l",
        "outputId": "f8050d18-6273-47ac-dcd3-94df246c9d0a"
      },
      "source": [
        "#criando uma lista e imprimindo cada um dos valores\n",
        "\n",
        "listaDoMercado = ['leite','frutas','carne']#lista\n",
        "for i in listaDoMercado: #loop para cada item na lista\n",
        "  print(i) #imprimir valor"
      ],
      "execution_count": 2,
      "outputs": [
        {
          "output_type": "stream",
          "text": [
            "leite\n",
            "frutas\n",
            "carne\n"
          ],
          "name": "stdout"
        }
      ]
    },
    {
      "cell_type": "code",
      "metadata": {
        "colab": {
          "base_uri": "https://localhost:8080/"
        },
        "id": "9rdF36OWXIFD",
        "outputId": "3f24dfac-5fb5-45de-ff6d-b19ea8d42771"
      },
      "source": [
        "# imprimindo os valores no intervalo  entre 0 e 5(exclusive)\n",
        "\n",
        "for contador in range(0,5):#loop para cada numero entre 0 e 5 \n",
        "  print(contador) "
      ],
      "execution_count": 6,
      "outputs": [
        {
          "output_type": "stream",
          "text": [
            "0\n",
            "1\n",
            "2\n",
            "3\n",
            "4\n"
          ],
          "name": "stdout"
        }
      ]
    },
    {
      "cell_type": "code",
      "metadata": {
        "colab": {
          "base_uri": "https://localhost:8080/"
        },
        "id": "j4GcaGx_YIFc",
        "outputId": "680b4467-1314-45a0-abc8-bc91babb59dc"
      },
      "source": [
        "#imprimindo na tela os numeros pares da lista de numeros\n",
        "\n",
        "lista = [1,2,3,4,5,6,7,8,9,10]#lista\n",
        "for num in lista:#loop para cada numero para dentro da  lista\n",
        "  if num % 2 == 0:#condição dos numeros a ser impresso\n",
        "    print(num)"
      ],
      "execution_count": 7,
      "outputs": [
        {
          "output_type": "stream",
          "text": [
            "2\n",
            "4\n",
            "6\n",
            "8\n",
            "10\n"
          ],
          "name": "stdout"
        }
      ]
    },
    {
      "cell_type": "code",
      "metadata": {
        "colab": {
          "base_uri": "https://localhost:8080/"
        },
        "id": "GGky9q-KZTX-",
        "outputId": "0a7cd632-86e8-4c02-fdda-d8b325af6dd2"
      },
      "source": [
        "#listando os numeros nointervalo entre 0 e 101.\n",
        "\n",
        "for i in range(0,101,2):#loop para cada numero par entre 1 e 101\n",
        "  print(i)#imprimindo os valores\n"
      ],
      "execution_count": 8,
      "outputs": [
        {
          "output_type": "stream",
          "text": [
            "0\n",
            "2\n",
            "4\n",
            "6\n",
            "8\n",
            "10\n",
            "12\n",
            "14\n",
            "16\n",
            "18\n",
            "20\n",
            "22\n",
            "24\n",
            "26\n",
            "28\n",
            "30\n",
            "32\n",
            "34\n",
            "36\n",
            "38\n",
            "40\n",
            "42\n",
            "44\n",
            "46\n",
            "48\n",
            "50\n",
            "52\n",
            "54\n",
            "56\n",
            "58\n",
            "60\n",
            "62\n",
            "64\n",
            "66\n",
            "68\n",
            "70\n",
            "72\n",
            "74\n",
            "76\n",
            "78\n",
            "80\n",
            "82\n",
            "84\n",
            "86\n",
            "88\n",
            "90\n",
            "92\n",
            "94\n",
            "96\n",
            "98\n",
            "100\n"
          ],
          "name": "stdout"
        }
      ]
    },
    {
      "cell_type": "code",
      "metadata": {
        "colab": {
          "base_uri": "https://localhost:8080/"
        },
        "id": "2fMHYF_2aImu",
        "outputId": "a0fa0669-878e-4e30-cec1-72c99453155a"
      },
      "source": [
        "#strings também são sequências\n",
        "#loop para cada caracter\n",
        "for caracter in 'python é uma linguagem de programação divertida!':\n",
        "  print(caracter) "
      ],
      "execution_count": 11,
      "outputs": [
        {
          "output_type": "stream",
          "text": [
            "p\n",
            "y\n",
            "t\n",
            "h\n",
            "o\n",
            "n\n",
            " \n",
            "é\n",
            " \n",
            "u\n",
            "m\n",
            "a\n",
            " \n",
            "l\n",
            "i\n",
            "n\n",
            "g\n",
            "u\n",
            "a\n",
            "g\n",
            "e\n",
            "m\n",
            " \n",
            "d\n",
            "e\n",
            " \n",
            "p\n",
            "r\n",
            "o\n",
            "g\n",
            "r\n",
            "a\n",
            "m\n",
            "a\n",
            "ç\n",
            "ã\n",
            "o\n",
            " \n",
            "d\n",
            "i\n",
            "v\n",
            "e\n",
            "r\n",
            "t\n",
            "i\n",
            "d\n",
            "a\n",
            "!\n"
          ],
          "name": "stdout"
        }
      ]
    }
  ]
}