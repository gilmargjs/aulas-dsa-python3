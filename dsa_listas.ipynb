{
  "nbformat": 4,
  "nbformat_minor": 0,
  "metadata": {
    "colab": {
      "name": "dsa_listas.ipynb",
      "provenance": [],
      "collapsed_sections": [],
      "authorship_tag": "ABX9TyPqFloV6vqX6DynqDhX5dv5",
      "include_colab_link": true
    },
    "kernelspec": {
      "name": "python3",
      "display_name": "Python 3"
    }
  },
  "cells": [
    {
      "cell_type": "markdown",
      "metadata": {
        "id": "view-in-github",
        "colab_type": "text"
      },
      "source": [
        "<a href=\"https://colab.research.google.com/github/gilmargjs/aulas-dsa-python3/blob/main/dsa_listas.ipynb\" target=\"_parent\"><img src=\"https://colab.research.google.com/assets/colab-badge.svg\" alt=\"Open In Colab\"/></a>"
      ]
    },
    {
      "cell_type": "code",
      "metadata": {
        "colab": {
          "base_uri": "https://localhost:8080/"
        },
        "id": "66bBPvpGozoz",
        "outputId": "3506ef1f-034b-4df6-d6db-d0ba4eca4649"
      },
      "source": [
        "#listas\n",
        "# obs: listas são alteraveis\n",
        "\n",
        "lista_do_mercado = [\"ovos,farinha,leite,maças\"] # criando uma lista com varios elementos\n",
        "print(lista_do_mercado) # criando uma lista com varios elementos\n",
        "\n",
        "lista2 = [\"ovos\",\"farinha\",\"leite\",\"maças\"]# imprimindo lista\n",
        "print(lista2)# imprimindo lista\n",
        "\n",
        "print(lista_do_mercado[0])# imprimindo o elemento numero 0 da  lista\n",
        "print(lista2[0])# imprimindo o elemento numero 0 da lista\n",
        "\n",
        "# alterando valor da lista\n",
        "lista2[2] = \"pão\" # modificando valor da lista\n",
        "print(lista2) # imprimindo novo valor da lista\n",
        "\n",
        "del lista2[3]# deletando valor da lista\n",
        "print(lista2)# imprimindo novo valor da lista\n",
        "\n",
        "# adicionando novo valor na lista\n",
        "lista2.append(\"carne\")\n",
        "print(lista2)"
      ],
      "execution_count": null,
      "outputs": [
        {
          "output_type": "stream",
          "text": [
            "['ovos,farinha,leite,maças']\n",
            "['ovos', 'farinha', 'leite', 'maças']\n",
            "ovos,farinha,leite,maças\n",
            "ovos\n",
            "['ovos', 'farinha', 'pão', 'maças']\n",
            "['ovos', 'farinha', 'pão']\n",
            "['ovos', 'farinha', 'pão', 'carne']\n"
          ],
          "name": "stdout"
        }
      ]
    },
    {
      "cell_type": "code",
      "metadata": {
        "colab": {
          "base_uri": "https://localhost:8080/"
        },
        "id": "YXwaO0kFr0Wf",
        "outputId": "cf47db5a-873d-4d36-c777-19e992f7352a"
      },
      "source": [
        "# obs: listas são alteraveis\n",
        "\n",
        "\n",
        "lista3 = [12,100,'universidade'] # lista com 3 elementos\n",
        "print(lista3)\n",
        "\n",
        "item1 = lista3[0] # adicionando um item 0 a variavel item1\n",
        "print(item1)\n",
        "\n",
        "item2 = lista3[1]# adicionando um item 1 a variavel item2\n",
        "print(item2)\n",
        "\n",
        "item3 = lista3[2]# adicionando um item 2 a variavel item3\n",
        "print(item3)\n",
        "\n",
        "#alterando valor da lista\n",
        "lista3[2] = \"estacio\" # alterando valor da lista\n",
        "print(lista3) # imprimindo nova lista\n",
        "\n",
        "del lista3[1]# deletando valor da lista\n",
        "print(lista3)# imprimindo nova lista\n",
        "\n"
      ],
      "execution_count": null,
      "outputs": [
        {
          "output_type": "stream",
          "text": [
            "[12, 100, 'universidade']\n",
            "12\n",
            "100\n",
            "universidade\n",
            "[12, 100, 'estacio']\n",
            "[12, 'estacio']\n"
          ],
          "name": "stdout"
        }
      ]
    }
  ]
}