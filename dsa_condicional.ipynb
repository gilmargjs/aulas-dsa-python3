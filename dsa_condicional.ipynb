{
  "nbformat": 4,
  "nbformat_minor": 0,
  "metadata": {
    "colab": {
      "name": "dsa_condicional.ipynb",
      "provenance": [],
      "collapsed_sections": [],
      "authorship_tag": "ABX9TyP3WbGU9pylJxaYTOexw03h",
      "include_colab_link": true
    },
    "kernelspec": {
      "name": "python3",
      "display_name": "Python 3"
    }
  },
  "cells": [
    {
      "cell_type": "markdown",
      "metadata": {
        "id": "view-in-github",
        "colab_type": "text"
      },
      "source": [
        "<a href=\"https://colab.research.google.com/github/gilmargjs/aulas-dsa-python3/blob/main/dsa_condicional.ipynb\" target=\"_parent\"><img src=\"https://colab.research.google.com/assets/colab-badge.svg\" alt=\"Open In Colab\"/></a>"
      ]
    },
    {
      "cell_type": "code",
      "metadata": {
        "colab": {
          "base_uri": "https://localhost:8080/"
        },
        "id": "iznV0HrolUCe",
        "outputId": "db67db89-200f-479f-d1b2-35322c5188e5"
      },
      "source": [
        "# if e else.\n",
        "# muita atenção com identaçáo\n",
        "# atenção com  os dois pontos no final do bloco if\n",
        "\n",
        "if 5 > 2:# se 5 maior que 2 executa esse trecho \n",
        "  print('python funcional !')\n",
        "else:# não for esse trecho\n",
        "  print('algo errado !')"
      ],
      "execution_count": null,
      "outputs": [
        {
          "output_type": "stream",
          "text": [
            "python funcional !\n"
          ],
          "name": "stdout"
        }
      ]
    },
    {
      "cell_type": "code",
      "metadata": {
        "colab": {
          "base_uri": "https://localhost:8080/"
        },
        "id": "6h-oOS1g5D5b",
        "outputId": "7b6342cb-8168-4348-b91a-a4c7a941f915"
      },
      "source": [
        "# muita atenção com identaçáo\n",
        "# atenção com  os dois pontos no final do bloco if\n",
        "\n",
        "if 5 == 5:\n",
        "  print('condição em python')\n"
      ],
      "execution_count": null,
      "outputs": [
        {
          "output_type": "stream",
          "text": [
            "condição em python\n"
          ],
          "name": "stdout"
        }
      ]
    },
    {
      "cell_type": "code",
      "metadata": {
        "colab": {
          "base_uri": "https://localhost:8080/"
        },
        "id": "qZk_FWVW5X-y",
        "outputId": "314cce0d-193e-48ef-b7ab-4515cb7bcd56"
      },
      "source": [
        "# muita atenção com identaçáo\n",
        "# atenção com  os dois pontos no final do bloco if\n",
        "\n",
        "if True:\n",
        "  print('parece que python funciona')"
      ],
      "execution_count": null,
      "outputs": [
        {
          "output_type": "stream",
          "text": [
            "parece que python funciona\n"
          ],
          "name": "stdout"
        }
      ]
    }
  ]
}