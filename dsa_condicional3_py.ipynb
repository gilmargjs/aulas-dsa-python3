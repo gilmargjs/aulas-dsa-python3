{
  "nbformat": 4,
  "nbformat_minor": 0,
  "metadata": {
    "colab": {
      "name": "dsa_condicional3.py.ipynb",
      "provenance": [],
      "collapsed_sections": [],
      "authorship_tag": "ABX9TyMOyoA7YGI718weQ8mwDSlY",
      "include_colab_link": true
    },
    "kernelspec": {
      "name": "python3",
      "display_name": "Python 3"
    }
  },
  "cells": [
    {
      "cell_type": "markdown",
      "metadata": {
        "id": "view-in-github",
        "colab_type": "text"
      },
      "source": [
        "<a href=\"https://colab.research.google.com/github/gilmargjs/aulas-dsa-python3/blob/main/dsa_condicional3_py.ipynb\" target=\"_parent\"><img src=\"https://colab.research.google.com/assets/colab-badge.svg\" alt=\"Open In Colab\"/></a>"
      ]
    },
    {
      "cell_type": "code",
      "metadata": {
        "colab": {
          "base_uri": "https://localhost:8080/"
        },
        "id": "t8Er6DZB_9lS",
        "outputId": "6f7b2ba3-32b8-496f-9c53-91e52d50ee33"
      },
      "source": [
        "# Usando mais de uma condição na cláusula if\n",
        "\n",
        "disciplina = input('Digite o nome da disciplina: ')\n",
        "nota_final = input('Digite a nota final (entre 0 e 100: ')\n",
        "\n",
        "if disciplina == 'Geografia' and nota_final >= '70':\n",
        "  print('você foi aprovado!')\n",
        "else:\n",
        "  print('lamento, acho que você precisa estudar mais!')"
      ],
      "execution_count": null,
      "outputs": [
        {
          "output_type": "stream",
          "text": [
            "Digite o nome da disciplina: Geografia\n",
            "Digite a nota final (entre 0 e 100: 75\n",
            "você foi aprovado!\n"
          ],
          "name": "stdout"
        }
      ]
    },
    {
      "cell_type": "code",
      "metadata": {
        "colab": {
          "base_uri": "https://localhost:8080/"
        },
        "id": "4mhInz3qDJ79",
        "outputId": "f74e303e-477d-4bf4-ef28-d4c232ffd948"
      },
      "source": [
        "# Usando mais de uma condição na clausula if e introduzindo placeholders \n",
        "\n",
        "disciplina = input('Digite o nome da disciplina: ')\n",
        "nota_final = input('Digite a nota final (entre 0 e 100)')\n",
        "semestre = input('Digite o semestre (1 a 4): ')\n",
        "\n",
        "if disciplina == 'Geografia' and nota_final >= '50' and int(semestre) != 1:\n",
        "  print('Você foi aprovada em %s com média final %r!' %(disciplina, nota_final))\n",
        "else:\n",
        "  print('lamento, acho que você precisa estudar mais!')  "
      ],
      "execution_count": null,
      "outputs": [
        {
          "output_type": "stream",
          "text": [
            "Digite o nome da disciplina: Geografia\n",
            "Digite a nota final (entre 0 e 10085\n",
            "Digite o semestre (1 a 4): 2\n",
            "Você foi aprovada em Geografia com média final '85'!\n"
          ],
          "name": "stdout"
        }
      ]
    },
    {
      "cell_type": "code",
      "metadata": {
        "colab": {
          "base_uri": "https://localhost:8080/"
        },
        "id": "fk7NX2_6GfcE",
        "outputId": "17830b81-b69d-4097-d17e-96486163773f"
      },
      "source": [
        "# minha versão de estudo\n",
        "\n",
        "print('(1) Geografia\\n(2) História\\n(3) Ciência\\n(4) Matemática\\n(5) Portuguẽs ')\n",
        "disciplina = input('Digite o numero correspondente a disciplina: ')\n",
        "nota_final = input('Digite a nota final (entre 0 e 100)')\n",
        "\n",
        "if disciplina == '1' and nota_final >= '60' and nota_final < '80':\n",
        "  if nota_final >= '60'and nota_final < '80':\n",
        "    grupo = 'C'\n",
        "    disciplina = 'Geografia'\n",
        "  print('Você foi aprovada em %s com média final %r grupo %s!' %(disciplina, nota_final, grupo))\n",
        "  \n",
        "elif disciplina == '1' and nota_final >= '80' and nota_final < '90':\n",
        "  if nota_final >= '80'and nota_final < '90':\n",
        "    grupo = 'B'\n",
        "    disciplina = 'Geografia'\n",
        "  print('Você foi aprovada em %s com média final %r grupo %s!' %(disciplina, nota_final, grupo))\n",
        "\n",
        "elif disciplina == '1' and nota_final >= '90':\n",
        "  if nota_final >= '90':\n",
        "    grupo = 'A'\n",
        "    disciplina = 'Geografia'\n",
        "  print('Você foi aprovada em %s com média final %r grupo %s!' %(disciplina, nota_final, grupo))\n",
        "\n",
        "else:\n",
        "  print('lamento, acho que você precisa estudar mais!')  "
      ],
      "execution_count": null,
      "outputs": [
        {
          "output_type": "stream",
          "text": [
            "(1) Geografia\n",
            "(2) História\n",
            "(3) Ciência\n",
            "(4) Matemática\n",
            "(5) Portuguẽs \n",
            "Digite o numero correspondente a disciplina: 1\n",
            "Digite a nota final (entre 0 e 100)90\n",
            "Você foi aprovada em Geografia com média final '90' grupo A!\n"
          ],
          "name": "stdout"
        }
      ]
    }
  ]
}