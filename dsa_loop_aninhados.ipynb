{
  "nbformat": 4,
  "nbformat_minor": 0,
  "metadata": {
    "colab": {
      "name": "dsa_loop_aninhados.ipynb",
      "provenance": [],
      "collapsed_sections": [],
      "authorship_tag": "ABX9TyPdNSJCTvzEobnUuDsTJeHB",
      "include_colab_link": true
    },
    "kernelspec": {
      "name": "python3",
      "display_name": "Python 3"
    }
  },
  "cells": [
    {
      "cell_type": "markdown",
      "metadata": {
        "id": "view-in-github",
        "colab_type": "text"
      },
      "source": [
        "<a href=\"https://colab.research.google.com/github/gilmargjs/aulas-dsa-python3/blob/main/dsa_loop_aninhados.ipynb\" target=\"_parent\"><img src=\"https://colab.research.google.com/assets/colab-badge.svg\" alt=\"Open In Colab\"/></a>"
      ]
    },
    {
      "cell_type": "code",
      "metadata": {
        "colab": {
          "base_uri": "https://localhost:8080/"
        },
        "id": "3W5FalXWV_Fn",
        "outputId": "16b01c26-4b20-4c1a-846f-666fcebb0779"
      },
      "source": [
        "#loops aninhados\n",
        "for i in range(0,5):#LOOP EXTERNO, para cada loop execulta um loop no for interno\n",
        "  for a in range(0,5):#LOOP INTERNO\n",
        "    print(\"esse é o valor de a \", a)"
      ],
      "execution_count": 2,
      "outputs": [
        {
          "output_type": "stream",
          "text": [
            "esse é o valor de a  0\n",
            "esse é o valor de a  1\n",
            "esse é o valor de a  2\n",
            "esse é o valor de a  3\n",
            "esse é o valor de a  4\n",
            "esse é o valor de a  0\n",
            "esse é o valor de a  1\n",
            "esse é o valor de a  2\n",
            "esse é o valor de a  3\n",
            "esse é o valor de a  4\n",
            "esse é o valor de a  0\n",
            "esse é o valor de a  1\n",
            "esse é o valor de a  2\n",
            "esse é o valor de a  3\n",
            "esse é o valor de a  4\n",
            "esse é o valor de a  0\n",
            "esse é o valor de a  1\n",
            "esse é o valor de a  2\n",
            "esse é o valor de a  3\n",
            "esse é o valor de a  4\n",
            "esse é o valor de a  0\n",
            "esse é o valor de a  1\n",
            "esse é o valor de a  2\n",
            "esse é o valor de a  3\n",
            "esse é o valor de a  4\n"
          ],
          "name": "stdout"
        }
      ]
    },
    {
      "cell_type": "code",
      "metadata": {
        "colab": {
          "base_uri": "https://localhost:8080/"
        },
        "id": "TCrasKatZymB",
        "outputId": "0e8f041b-bb92-4fc6-c91f-fbe2aaf5c1e3"
      },
      "source": [
        "listab = [32,53,85,10,15,17,19]\n",
        "soma = 0\n",
        "for i in listab:    #loop para  cada item na lista\n",
        "  double_i = i*2    #multiplica o item por 2 e grava em uma variavel\n",
        "  soma += double_i\n",
        "\n",
        "print('soma total dos valores em cada loop x 2: ',soma)\n",
        "#obs: soma variavel global\n",
        "#     double_i variavel local"
      ],
      "execution_count": 21,
      "outputs": [
        {
          "output_type": "stream",
          "text": [
            "soma total dos valores em cada loop x 2:  462\n"
          ],
          "name": "stdout"
        }
      ]
    },
    {
      "cell_type": "code",
      "metadata": {
        "colab": {
          "base_uri": "https://localhost:8080/"
        },
        "id": "G1h4t9WCbz3s",
        "outputId": "91a474f8-1ec2-4056-ceda-1ef0bce4598d"
      },
      "source": [
        "#loop em lista de listas\n",
        "\n",
        "listas = [[1,2,3],[10,15,14],[10,1,8,7,2,3]]\n",
        "for valor in listas:#percorre a lista e retorna o valor de cada lista que estão dentro\n",
        "  print('valor encada lista:',valor)      "
      ],
      "execution_count": 15,
      "outputs": [
        {
          "output_type": "stream",
          "text": [
            "valor encada lista: [1, 2, 3]\n",
            "valor encada lista: [10, 15, 14]\n",
            "valor encada lista: [10, 1, 8, 7, 2, 3]\n"
          ],
          "name": "stdout"
        }
      ]
    },
    {
      "cell_type": "code",
      "metadata": {
        "colab": {
          "base_uri": "https://localhost:8080/"
        },
        "id": "r-TgZ7SxctzK",
        "outputId": "5b47afcd-09a9-4c05-8cdd-3e1a2a6b091a"
      },
      "source": [
        "#contando os itens de uma lista\n",
        "lista = [5,6,10,13,17]\n",
        "count = 0           #inicio dacontagem\n",
        "for item in lista:  #loop na lista\n",
        "  count += 1        #acrecentando a contagem\n",
        "\n",
        "print('a lista tem ',count, 'itens')"
      ],
      "execution_count": 14,
      "outputs": [
        {
          "output_type": "stream",
          "text": [
            "a lista tem  5 itens\n"
          ],
          "name": "stdout"
        }
      ]
    },
    {
      "cell_type": "code",
      "metadata": {
        "colab": {
          "base_uri": "https://localhost:8080/"
        },
        "id": "9W3wD6SOd8tJ",
        "outputId": "0a3c406e-2ad8-42a3-ac7a-f12c5be3f09d"
      },
      "source": [
        "#contando o numero de colunas\n",
        "\n",
        "lst = [[1,2,3],[3,4,5],[5,6,7]]\n",
        "primeira_linha = lst[0]       #acrecentando o valor do primeiro item em uma variavel \n",
        "count = 0                     #iniciando a contagem\n",
        "for colum in primeira_linha:  #loop dentro da lista\n",
        "  count = count + 1           #acrecentando valor em cada loop\n",
        "\n",
        "print(count)"
      ],
      "execution_count": 9,
      "outputs": [
        {
          "output_type": "stream",
          "text": [
            "3\n"
          ],
          "name": "stdout"
        }
      ]
    },
    {
      "cell_type": "code",
      "metadata": {
        "colab": {
          "base_uri": "https://localhost:8080/"
        },
        "id": "K8GtlQ_XfVI4",
        "outputId": "55cf12b8-43ae-47dc-fdcd-786786f229d1"
      },
      "source": [
        "#pesquisando em listas\n",
        "\n",
        "listac = [5,6,7,10,50]\n",
        "#loop atravez da lista\n",
        "for item in listac:\n",
        "  if item == 50:  #condição para encontrar o valor\n",
        "    print('o numero ',item ,' esta na lista')"
      ],
      "execution_count": 13,
      "outputs": [
        {
          "output_type": "stream",
          "text": [
            "o numero  50  esta na lista\n"
          ],
          "name": "stdout"
        }
      ]
    },
    {
      "cell_type": "code",
      "metadata": {
        "colab": {
          "base_uri": "https://localhost:8080/"
        },
        "id": "aVpecCcVijIi",
        "outputId": "5929ece8-b192-448d-bff8-7efb674a9be0"
      },
      "source": [
        "#listando as chaves de um dicionario\n",
        "\n",
        "disc = {'k1':'python','k2':'R','k3':'Scala'}\n",
        "for item in disc:#loop nas chaves\n",
        "    print('chave = ',item)\n",
        "\n",
        "for valor in disc.values():#loop nos valores\n",
        "  print('o valor =',valor)\n",
        "#imprimindo chave e valor do dicionario usando o metodo items()\n",
        "#para retorna os itens do dicionario\n",
        "for k,v in disc.items():#loop nas chaves e valor\n",
        "  print('o valor da chave =',k,'e o valor =',v)"
      ],
      "execution_count": 33,
      "outputs": [
        {
          "output_type": "stream",
          "text": [
            "chave =  k1\n",
            "chave =  k2\n",
            "chave =  k3\n",
            "o valor = python\n",
            "o valor = R\n",
            "o valor = Scala\n",
            "o valor da chave = k1 e o valor = python\n",
            "o valor da chave = k2 e o valor = R\n",
            "o valor da chave = k3 e o valor = Scala\n"
          ],
          "name": "stdout"
        }
      ]
    }
  ]
}